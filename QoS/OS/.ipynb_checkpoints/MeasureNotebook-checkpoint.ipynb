{
 "cells": [
  {
   "cell_type": "code",
   "execution_count": 1,
   "metadata": {},
   "outputs": [],
   "source": [
    "\n",
    "#!/usr/bin/env python\n",
    "# -*- coding: utf-8 -*-\n",
    "# Python 2/3 compatibility\n",
    "from __future__ import print_function\n",
    "from __future__ import division\n",
    "import numpy\n",
    "import re\n",
    "import sys\n",
    "import scipy.misc\n",
    "import imageio\n",
    "import vifp\n",
    "import psnr\n",
    "import reco\n",
    "import ssim\n",
    "\n",
    "import numpy as np\n",
    "import cv2 as cv\n",
    "import argparse\n",
    "import sys\n"
   ]
  },
  {
   "cell_type": "code",
   "execution_count": 18,
   "metadata": {},
   "outputs": [
    {
     "name": "stdout",
     "output_type": "stream",
     "text": [
      "ffmpeg version 3.4.8-0ubuntu0.2 Copyright (c) 2000-2020 the FFmpeg developers\n",
      "  built with gcc 7 (Ubuntu 7.5.0-3ubuntu1~18.04)\n",
      "  configuration: --prefix=/usr --extra-version=0ubuntu0.2 --toolchain=hardened --libdir=/usr/lib/x86_64-linux-gnu --incdir=/usr/include/x86_64-linux-gnu --enable-gpl --disable-stripping --enable-avresample --enable-avisynth --enable-gnutls --enable-ladspa --enable-libass --enable-libbluray --enable-libbs2b --enable-libcaca --enable-libcdio --enable-libflite --enable-libfontconfig --enable-libfreetype --enable-libfribidi --enable-libgme --enable-libgsm --enable-libmp3lame --enable-libmysofa --enable-libopenjpeg --enable-libopenmpt --enable-libopus --enable-libpulse --enable-librubberband --enable-librsvg --enable-libshine --enable-libsnappy --enable-libsoxr --enable-libspeex --enable-libssh --enable-libtheora --enable-libtwolame --enable-libvorbis --enable-libvpx --enable-libwavpack --enable-libwebp --enable-libx265 --enable-libxml2 --enable-libxvid --enable-libzmq --enable-libzvbi --enable-omx --enable-openal --enable-opengl --enable-sdl2 --enable-libdc1394 --enable-libdrm --enable-libiec61883 --enable-chromaprint --enable-frei0r --enable-libopencv --enable-libx264 --enable-shared\n",
      "  libavutil      55. 78.100 / 55. 78.100\n",
      "  libavcodec     57.107.100 / 57.107.100\n",
      "  libavformat    57. 83.100 / 57. 83.100\n",
      "  libavdevice    57. 10.100 / 57. 10.100\n",
      "  libavfilter     6.107.100 /  6.107.100\n",
      "  libavresample   3.  7.  0 /  3.  7.  0\n",
      "  libswscale      4.  8.100 /  4.  8.100\n",
      "  libswresample   2.  9.100 /  2.  9.100\n",
      "  libpostproc    54.  7.100 / 54.  7.100\n",
      "Input #0, mov,mp4,m4a,3gp,3g2,mj2, from 'ref.mp4':\n",
      "  Metadata:\n",
      "    major_brand     : mp42\n",
      "    minor_version   : 512\n",
      "    compatible_brands: isomiso2avc1mp41\n",
      "    creation_time   : 2016-07-05T02:25:44.000000Z\n",
      "    encoder         : HandBrake 0.10.2 2015061000\n",
      "  Duration: 00:04:18.59, start: 0.000000, bitrate: 494 kb/s\n",
      "    Stream #0:0(und): Video: h264 (Main) (avc1 / 0x31637661), yuv420p(tv, bt709), 848x480, 361 kb/s, 23.97 fps, 23.98 tbr, 90k tbn, 180k tbc (default)\n",
      "    Metadata:\n",
      "      creation_time   : 2016-07-05T02:25:44.000000Z\n",
      "      handler_name    : VideoHandler\n",
      "    Stream #0:1(und): Audio: aac (HE-AAC) (mp4a / 0x6134706D), 44100 Hz, stereo, fltp, 128 kb/s (default)\n",
      "    Metadata:\n",
      "      creation_time   : 2016-07-05T02:25:44.000000Z\n",
      "      handler_name    : Stereo\n",
      "Stream mapping:\n",
      "  Stream #0:0 -> #0:0 (h264 (native) -> vp9 (libvpx-vp9))\n",
      "  Stream #0:1 -> #0:1 (aac (native) -> vorbis (libvorbis))\n",
      "Press [q] to stop, [?] for help\n",
      "\u001b[1;36m[libvpx-vp9 @ 0x5646c608a7a0] \u001b[0mv1.7.0\n",
      "Output #0, matroska, to 'output.mkv':\n",
      "  Metadata:\n",
      "    major_brand     : mp42\n",
      "    minor_version   : 512\n",
      "    compatible_brands: isomiso2avc1mp41\n",
      "    encoder         : Lavf57.83.100\n",
      "    Stream #0:0(und): Video: vp9 (libvpx-vp9) (VP90 / 0x30395056), yuv420p, 848x480, q=-1--1, 200 kb/s, 23.98 fps, 1k tbn, 23.98 tbc (default)\n",
      "    Metadata:\n",
      "      creation_time   : 2016-07-05T02:25:44.000000Z\n",
      "      handler_name    : VideoHandler\n",
      "      encoder         : Lavc57.107.100 libvpx-vp9\n",
      "    Side data:\n",
      "      cpb: bitrate max/min/avg: 0/0/0 buffer size: 0 vbv_delay: -1\n",
      "    Stream #0:1(und): Audio: vorbis (libvorbis) (oV[0][0] / 0x566F), 44100 Hz, stereo, fltp (default)\n",
      "    Metadata:\n",
      "      creation_time   : 2016-07-05T02:25:44.000000Z\n",
      "      handler_name    : Stereo\n",
      "      encoder         : Lavc57.107.100 libvorbis\n"
     ]
    }
   ],
   "source": [
    "!  ffmpeg -i ref.mp4 -c:v vp9 -c:a libvorbis output.mkv"
   ]
  },
  {
   "cell_type": "code",
   "execution_count": 17,
   "metadata": {
    "scrolled": true
   },
   "outputs": [
    {
     "name": "stdout",
     "output_type": "stream",
     "text": [
      "Reference frame resolution: Width=848 Height=480 of Number of Frames: 6199.0\n",
      "PSNR trigger value 30\n"
     ]
    },
    {
     "ename": "error",
     "evalue": "OpenCV(4.4.0) /tmp/pip-req-build-cg56sov1/opencv/modules/imgproc/src/color.cpp:182: error: (-215:Assertion failed) !_src.empty() in function 'cvtColor'\n",
     "output_type": "error",
     "traceback": [
      "\u001b[0;31m---------------------------------------------------------------------------\u001b[0m",
      "\u001b[0;31merror\u001b[0m                                     Traceback (most recent call last)",
      "\u001b[0;32m<ipython-input-17-07cb67c4bb56>\u001b[0m in \u001b[0;36m<module>\u001b[0;34m\u001b[0m\n\u001b[1;32m     34\u001b[0m \u001b[0;31m#     frameUnderTest = img_greyscale(frameUnderTest)\u001b[0m\u001b[0;34m\u001b[0m\u001b[0;34m\u001b[0m\u001b[0;34m\u001b[0m\u001b[0m\n\u001b[1;32m     35\u001b[0m     \u001b[0mframeReference\u001b[0m \u001b[0;34m=\u001b[0m \u001b[0mcv\u001b[0m\u001b[0;34m.\u001b[0m\u001b[0mcvtColor\u001b[0m\u001b[0;34m(\u001b[0m\u001b[0mframeReference\u001b[0m\u001b[0;34m,\u001b[0m \u001b[0mcv\u001b[0m\u001b[0;34m.\u001b[0m\u001b[0mCOLOR_BGR2GRAY\u001b[0m\u001b[0;34m)\u001b[0m\u001b[0;34m\u001b[0m\u001b[0;34m\u001b[0m\u001b[0m\n\u001b[0;32m---> 36\u001b[0;31m     \u001b[0mframeUnderTest\u001b[0m \u001b[0;34m=\u001b[0m \u001b[0mcv\u001b[0m\u001b[0;34m.\u001b[0m\u001b[0mcvtColor\u001b[0m\u001b[0;34m(\u001b[0m\u001b[0mframeUnderTest\u001b[0m\u001b[0;34m,\u001b[0m \u001b[0mcv\u001b[0m\u001b[0;34m.\u001b[0m\u001b[0mCOLOR_BGR2GRAY\u001b[0m\u001b[0;34m)\u001b[0m\u001b[0;34m\u001b[0m\u001b[0;34m\u001b[0m\u001b[0m\n\u001b[0m\u001b[1;32m     37\u001b[0m \u001b[0;34m\u001b[0m\u001b[0m\n\u001b[1;32m     38\u001b[0m     \u001b[0mref\u001b[0m \u001b[0;34m=\u001b[0m \u001b[0mframeReference\u001b[0m\u001b[0;34m\u001b[0m\u001b[0;34m\u001b[0m\u001b[0m\n",
      "\u001b[0;31merror\u001b[0m: OpenCV(4.4.0) /tmp/pip-req-build-cg56sov1/opencv/modules/imgproc/src/color.cpp:182: error: (-215:Assertion failed) !_src.empty() in function 'cvtColor'\n"
     ]
    }
   ],
   "source": [
    "def img_greyscale(img):\n",
    "    return 0.299 * img[:,:,0] + 0.587 * img[:,:,1] + 0.114 * img[:,:,2]\n",
    "\n",
    "\n",
    "ref_file = \"ref.mp4\"\n",
    "dest_file = \"output.mkv\"\n",
    "s\n",
    "sourceReference = ref_file\n",
    "sourceCompareWith = dest_file\n",
    "delay = 30\n",
    "psnrTriggerValue = 30\n",
    "framenum = 500 # Frame counter\n",
    "captRefrnc = cv.VideoCapture(sourceReference)\n",
    "captUndTst = cv.VideoCapture(sourceCompareWith)\n",
    "if not captRefrnc.isOpened():\n",
    "    print(\"Could not open the reference \" + sourceReference)\n",
    "    sys.exit(-1)\n",
    "if not captUndTst.isOpened():\n",
    "    print(\"Could not open case test \" + sourceCompareWith)\n",
    "    sys.exit(-1)\n",
    "refS = (int(captRefrnc.get(cv.CAP_PROP_FRAME_WIDTH)), int(captRefrnc.get(cv.CAP_PROP_FRAME_HEIGHT)))\n",
    "uTSi = (int(captUndTst.get(cv.CAP_PROP_FRAME_WIDTH)), int(captUndTst.get(cv.CAP_PROP_FRAME_HEIGHT)))\n",
    "if refS != uTSi:\n",
    "    print(\"Inputs have different size!!! Closing.\")\n",
    "    sys.exit(-1)\n",
    "print(\"Reference frame resolution: Width={} Height={} of Number of Frames: {}\".format(refS[0], refS[1],\n",
    "                                                                             captRefrnc.get(cv.CAP_PROP_FRAME_COUNT)))\n",
    "print(\"PSNR trigger value {}\".format(psnrTriggerValue))\n",
    "while framenum < 510: # Show the image captured in the window and repeat\n",
    "         \n",
    "    _, frameReference = captRefrnc.read()\n",
    "    _, frameUnderTest = captUndTst.read()\n",
    "#     frameReference = img_greyscale(frameReference)\n",
    "#     frameUnderTest = img_greyscale(frameUnderTest)\n",
    "    frameReference = cv.cvtColor(frameReference, cv.COLOR_BGR2GRAY)\n",
    "    frameUnderTest = cv.cvtColor(frameUnderTest, cv.COLOR_BGR2GRAY)\n",
    "    \n",
    "    ref = frameReference\n",
    "    dist = frameUnderTest\n",
    "    if frameReference is None or frameUnderTest is None:\n",
    "        break\n",
    "    framenum += 1\n",
    "    print(\"\\nFrame: {}\".format(framenum))\n",
    "    vifp_value = vifp.vifp_mscale(ref, dist)\n",
    "    print(\"VIFP={}\".format(vifp_value), end=\" \")\n",
    "\n",
    "    ssim_value = ssim.ssim_exact(ref/255, dist/255)\n",
    "    print(\"SSIM={}\".format(ssim_value), end=\" \")\n",
    "\n",
    "    psnr_value = psnr.psnr(ref, dist)\n",
    "    print(\"PSNR={}\".format(psnr_value), end=\" \") \n",
    "\n",
    "    reco_value = reco.reco(ref/255, dist/255)\n",
    "    print(\"RECO={}\".format(reco_value), end=\" \") \n",
    "    k = cv.waitKey(delay)\n",
    "    if k == 27:\n",
    "        break\n",
    "sys.exit(0)"
   ]
  },
  {
   "cell_type": "code",
   "execution_count": 14,
   "metadata": {},
   "outputs": [
    {
     "name": "stdout",
     "output_type": "stream",
     "text": [
      "MeasureNotebook.ipynb  psnr.py\tref.mp4   ref2.mp4  ssim.py\r\n",
      "__pycache__\t       reco.py\tref2.avi  src.mp4   vifp.py\r\n"
     ]
    }
   ],
   "source": []
  }
 ],
 "metadata": {
  "kernelspec": {
   "display_name": "Python 3",
   "language": "python",
   "name": "python3"
  },
  "language_info": {
   "codemirror_mode": {
    "name": "ipython",
    "version": 3
   },
   "file_extension": ".py",
   "mimetype": "text/x-python",
   "name": "python",
   "nbconvert_exporter": "python",
   "pygments_lexer": "ipython3",
   "version": "3.7.4"
  }
 },
 "nbformat": 4,
 "nbformat_minor": 4
}
