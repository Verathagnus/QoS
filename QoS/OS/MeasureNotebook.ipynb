{
 "cells": [
  {
   "cell_type": "code",
   "execution_count": 1,
   "metadata": {},
   "outputs": [],
   "source": [
    "\n",
    "#!/usr/bin/env python\n",
    "# -*- coding: utf-8 -*-\n",
    "# Python 2/3 compatibility\n",
    "from __future__ import print_function\n",
    "from __future__ import division\n",
    "import numpy\n",
    "import re\n",
    "import sys\n",
    "import scipy.misc\n",
    "import imageio\n",
    "import vifp\n",
    "import psnr\n",
    "import reco\n",
    "import ssim\n",
    "\n",
    "import numpy as np\n",
    "import cv2 as cv\n",
    "import argparse\n",
    "import sys\n"
   ]
  },
  {
   "cell_type": "code",
   "execution_count": 2,
   "metadata": {
    "scrolled": true
   },
   "outputs": [
    {
     "name": "stdout",
     "output_type": "stream",
     "text": [
      "Reference frame resolution: Width=848 Height=480 of Number of Frames: 6199.0\n",
      "PSNR trigger value 30\n",
      "\n",
      "Frame: 0\n"
     ]
    },
    {
     "name": "stderr",
     "output_type": "stream",
     "text": [
      "/workspace/video-quality/QoS/OS/vifp.py:111: RuntimeWarning: invalid value encountered in double_scalars\n",
      "  vifp = num/den\n"
     ]
    },
    {
     "name": "stdout",
     "output_type": "stream",
     "text": [
      "VIFP=1.0 SSIM=1.0 PSNR=100 RECO=1.0 \n",
      "Frame: 1\n",
      "VIFP=0.971021936099042 SSIM=0.9966145833333333 PSNR=67.33941795227366 RECO=0.32753057855879275 \n",
      "Frame: 2\n",
      "VIFP=0.9958322284324045 SSIM=0.9821196933962264 PSNR=59.82879689618515 RECO=0.9888495045782957 \n",
      "Frame: 3\n",
      "VIFP=0.9905223799508792 SSIM=0.9657085298742139 PSNR=54.348769665641555 RECO=0.9937346053187924 \n",
      "Frame: 4\n",
      "VIFP=0.9908298022838266 SSIM=0.9589745479559748 PSNR=53.92222975736482 RECO=1.0065151756785784 \n",
      "Frame: 5\n",
      "VIFP=0.9890575193155763 SSIM=0.954500786163522 PSNR=55.5241891245862 RECO=0.9844454480665189 "
     ]
    },
    {
     "ename": "SystemExit",
     "evalue": "0",
     "output_type": "error",
     "traceback": [
      "An exception has occurred, use %tb to see the full traceback.\n",
      "\u001b[0;31mSystemExit\u001b[0m\u001b[0;31m:\u001b[0m 0\n"
     ]
    },
    {
     "name": "stderr",
     "output_type": "stream",
     "text": [
      "/usr/local/lib/python3.7/site-packages/IPython/core/interactiveshell.py:3426: UserWarning: To exit: use 'exit', 'quit', or Ctrl-D.\n",
      "  warn(\"To exit: use 'exit', 'quit', or Ctrl-D.\", stacklevel=1)\n"
     ]
    }
   ],
   "source": [
    "ref_file = \"ref.mp4\"\n",
    "dest_file = \"ref.mkv\"\n",
    "\n",
    "sourceReference = ref_file\n",
    "sourceCompareWith = dest_file\n",
    "delay = 30\n",
    "psnrTriggerValue = 30\n",
    "framenum = -1  # Frame counter\n",
    "captRefrnc = cv.VideoCapture(sourceReference)\n",
    "captUndTst = cv.VideoCapture(sourceCompareWith)\n",
    "if not captRefrnc.isOpened():\n",
    "    print(\"Could not open the reference \" + sourceReference)\n",
    "    sys.exit(-1)\n",
    "if not captUndTst.isOpened():\n",
    "    print(\"Could not open case test \" + sourceCompareWith)\n",
    "    sys.exit(-1)\n",
    "refS = (int(captRefrnc.get(cv.CAP_PROP_FRAME_WIDTH)), int(captRefrnc.get(cv.CAP_PROP_FRAME_HEIGHT)))\n",
    "uTSi = (int(captUndTst.get(cv.CAP_PROP_FRAME_WIDTH)), int(captUndTst.get(cv.CAP_PROP_FRAME_HEIGHT)))\n",
    "if refS != uTSi:\n",
    "    print(\"Inputs have different size!!! Closing.\")\n",
    "    sys.exit(-1)\n",
    "print(\"Reference frame resolution: Width={} Height={} of Number of Frames: {}\".format(refS[0], refS[1],\n",
    "                                                                                      captRefrnc.get(\n",
    "                                                                                          cv.CAP_PROP_FRAME_COUNT)))\n",
    "print(\"PSNR trigger value {}\".format(psnrTriggerValue))\n",
    "while framenum < 5:  # Show the image captured in the window and repeat\n",
    "\n",
    "    _, frameReference = captRefrnc.read()\n",
    "    _, frameUnderTest = captUndTst.read()\n",
    "    frameReference = cv.cvtColor(frameReference, cv.COLOR_BGR2GRAY)\n",
    "    frameUnderTest = cv.cvtColor(frameUnderTest, cv.COLOR_BGR2GRAY)\n",
    "\n",
    "    ref = frameReference\n",
    "    dist = frameUnderTest\n",
    "    if frameReference is None or frameUnderTest is None:\n",
    "        break\n",
    "    framenum += 1\n",
    "    print(\"\\nFrame: {}\".format(framenum))\n",
    "    vifp_value = vifp.vifp_mscale(ref, dist)\n",
    "    print(\"VIFP={}\".format(vifp_value), end=\" \")\n",
    "\n",
    "    ssim_value = ssim.ssim_exact(ref / 255, dist / 255)\n",
    "    print(\"SSIM={}\".format(ssim_value), end=\" \")\n",
    "\n",
    "    psnr_value = psnr.psnr(ref, dist)\n",
    "    print(\"PSNR={}\".format(psnr_value), end=\" \")\n",
    "\n",
    "    reco_value = reco.reco(ref / 255, dist / 255)\n",
    "    print(\"RECO={}\".format(reco_value), end=\" \")\n",
    "    k = cv.waitKey(delay)\n",
    "    if k == 27:\n",
    "        break\n",
    "sys.exit(0)"
   ]
  }
 ],
 "metadata": {
  "kernelspec": {
   "display_name": "Python 3",
   "language": "python",
   "name": "python3"
  },
  "language_info": {
   "codemirror_mode": {
    "name": "ipython",
    "version": 3
   },
   "file_extension": ".py",
   "mimetype": "text/x-python",
   "name": "python",
   "nbconvert_exporter": "python",
   "pygments_lexer": "ipython3",
   "version": "3.7.4"
  }
 },
 "nbformat": 4,
 "nbformat_minor": 4
}
